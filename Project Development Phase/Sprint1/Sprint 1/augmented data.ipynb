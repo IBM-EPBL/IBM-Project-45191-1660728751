{
 "cells": [
  {
   "cell_type": "code",
   "execution_count": 6,
   "metadata": {},
   "outputs": [],
   "source": [
    "from keras.preprocessing.image import ImageDataGenerator\n",
    "import cv2\n",
    "from os import listdir\n",
    "import time    \n",
    "\n",
    "def hms_string(sec_elapsed):\n",
    "    h = int(sec_elapsed / (60 * 60))\n",
    "    m = int((sec_elapsed % (60 * 60)) / 60)\n",
    "    s = sec_elapsed % 60\n",
    "    return f\"{h}:{m}:{round(s,1)}\"\n",
    "\n",
    "def augment_data(file_dir, n_generated_samples, save_to_dir):\n",
    "    data_gen = ImageDataGenerator(rotation_range=30, \n",
    "                                  width_shift_range=0.1,\n",
    "                                  height_shift_range=0.15, \n",
    "                                  shear_range=0.25, \n",
    "                                  zoom_range = 0.2,\n",
    "                                  horizontal_flip=True, \n",
    "                                  vertical_flip=False, \n",
    "                                  fill_mode='nearest',\n",
    "                                  brightness_range=(0.5,1.2)\n",
    "                                 )\n",
    "\n",
    "    \n",
    "    for filename in listdir(file_dir):\n",
    "        image = cv2.imread(file_dir + '/' + filename)\n",
    "        image = image.reshape((1,)+image.shape)\n",
    "        save_prefix = 'aug_' + filename[:-4]    \n",
    "        i=0\n",
    "        for batch in data_gen.flow(x=image, batch_size=1, save_to_dir=save_to_dir,\n",
    "                                   save_prefix=save_prefix, save_format='jpg'):\n",
    "            i += 1\n",
    "            if i > n_generated_samples:\n",
    "                break"
   ]
  },
  {
   "cell_type": "code",
   "execution_count": 7,
   "metadata": {},
   "outputs": [
    {
     "name": "stdout",
     "output_type": "stream",
     "text": [
      "Elapsed Time : 21.566398859024048\n"
     ]
    }
   ],
   "source": [
    "start_time = time.time()\n",
    "\n",
    "augmented_data_path = r'C:\\Users\\prash\\Downloads\\diiiii'\n",
    "augment_data(file_dir=r'C:\\Users\\prash\\Downloads\\Digital Naturalist Dataset\\Digital Naturalist Dataset\\Bird\\Great Indian Bustard Bird', n_generated_samples=8, save_to_dir=augmented_data_path+'/Bird/GIB_AUG')\n",
    "augment_data(file_dir=r'C:\\Users\\prash\\Downloads\\Digital Naturalist Dataset\\Digital Naturalist Dataset\\Bird\\Spoon Billed Sandpiper Bird', n_generated_samples=8, save_to_dir=augmented_data_path+'/Bird/SPS_AUG')\n",
    "augment_data(file_dir=r'C:\\Users\\prash\\Downloads\\Digital Naturalist Dataset\\Digital Naturalist Dataset\\Flower\\Corpse Flower', n_generated_samples=8, save_to_dir=augmented_data_path+'/Flower/Corpse_AUG')\n",
    "augment_data(file_dir=r'C:\\Users\\prash\\Downloads\\Digital Naturalist Dataset\\Digital Naturalist Dataset\\Flower\\Lady Slipper Orchid Flower', n_generated_samples=8, save_to_dir=augmented_data_path+'/Flower/LS_Orchid_AUG')\n",
    "augment_data(file_dir=r'C:\\Users\\prash\\Downloads\\Digital Naturalist Dataset\\Digital Naturalist Dataset\\Mammal\\Pangolin Mammal', n_generated_samples=8, save_to_dir=augmented_data_path+'/Mammal/Pangolin_AUG')\n",
    "augment_data(file_dir=r'C:\\Users\\prash\\Downloads\\Digital Naturalist Dataset\\Digital Naturalist Dataset\\Mammal\\Senenca White Deer Mammal', n_generated_samples=8, save_to_dir=augmented_data_path+'/Mammal/SW_Deer_AUG')\n",
    "\n",
    "\n",
    "end_time = time.time()\n",
    "execution_time = (end_time - start_time)\n",
    "print(\"Elapsed Time : \"+str(execution_time))"
   ]
  }
 ],
 "metadata": {
  "kernelspec": {
   "display_name": "Python 3.10.6 64-bit",
   "language": "python",
   "name": "python3"
  },
  "language_info": {
   "codemirror_mode": {
    "name": "ipython",
    "version": 3
   },
   "file_extension": ".py",
   "mimetype": "text/x-python",
   "name": "python",
   "nbconvert_exporter": "python",
   "pygments_lexer": "ipython3",
   "version": "3.10.6"
  },
  "orig_nbformat": 4,
  "vscode": {
   "interpreter": {
    "hash": "c69d141fca959081254a0b2e02e55787369c1159b7ddbc81e1232bfadcd3a9e7"
   }
  }
 },
 "nbformat": 4,
 "nbformat_minor": 2
}
